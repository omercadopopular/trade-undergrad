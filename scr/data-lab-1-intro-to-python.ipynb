{
 "cells": [
  {
   "cell_type": "markdown",
   "id": "85ab97c2",
   "metadata": {},
   "source": [
    "\n",
    "# International Trade: Data Lab 1 — Intro to Python\n",
    "**Instructor:** Carlos Góes — *George Washington University*  \n",
    "**Term:** Fall 2025\n"
   ]
  },
  {
   "cell_type": "markdown",
   "id": "a31724c0",
   "metadata": {},
   "source": [
    "\n",
    "## Why Python? (Easy to understand)\n"
   ]
  },
  {
   "cell_type": "code",
   "execution_count": 1,
   "id": "40b66749",
   "metadata": {},
   "outputs": [
    {
     "name": "stdout",
     "output_type": "stream",
     "text": [
      "Hi!\n"
     ]
    }
   ],
   "source": [
    "\n",
    "# Minimal Python example\n",
    "print(\"Hi!\")\n"
   ]
  },
  {
   "cell_type": "markdown",
   "id": "9855b684",
   "metadata": {},
   "source": [
    "\n",
    "## Integers, Floats, Strings, and Booleans\n",
    "### Integers\n",
    "Integers are whole numbers $$\\mathbb{Z} = \\{…, -2, -1, 0, 1, 2, …\\}$$.\n"
   ]
  },
  {
   "cell_type": "code",
   "execution_count": 2,
   "id": "8f984272",
   "metadata": {},
   "outputs": [
    {
     "name": "stdout",
     "output_type": "stream",
     "text": [
      "20 <class 'int'>\n"
     ]
    }
   ],
   "source": [
    "var = 20\n",
    "print(var, type(var))"
   ]
  },
  {
   "cell_type": "markdown",
   "id": "acb6ebb5",
   "metadata": {},
   "source": [
    "\n",
    "### Floats\n",
    "Floats represent real numbers: $$\\mathbb{R} \\quad\\equiv \\quad \\{ \\cdots, -\\pi, -2.5, -\\sqrt{2}, -\\frac{1}{2}, 0, \\frac{1}{2}, \\sqrt{2}, 2.5, \\pi, \\cdots \\}$$"
   ]
  },
  {
   "cell_type": "code",
   "execution_count": 3,
   "id": "c1873d86",
   "metadata": {},
   "outputs": [
    {
     "name": "stdout",
     "output_type": "stream",
     "text": [
      "3.14159265 <class 'float'>\n"
     ]
    }
   ],
   "source": [
    "var = 3.14159265\n",
    "print(var, type(var))"
   ]
  },
  {
   "cell_type": "markdown",
   "id": "e8447cca",
   "metadata": {},
   "source": [
    "\n",
    "### Strings\n",
    "Strings represent text.\n"
   ]
  },
  {
   "cell_type": "code",
   "execution_count": 4,
   "id": "f8d56151",
   "metadata": {},
   "outputs": [
    {
     "name": "stdout",
     "output_type": "stream",
     "text": [
      "This is a string of characters <class 'str'>\n"
     ]
    }
   ],
   "source": [
    "var = \"This is a string of characters\"\n",
    "print(var, type(var))"
   ]
  },
  {
   "cell_type": "markdown",
   "id": "d18c7d50",
   "metadata": {},
   "source": [
    "\n",
    "### Booleans\n",
    "Booleans represent logical truth values (`True` or `False`).\n"
   ]
  },
  {
   "cell_type": "code",
   "execution_count": 5,
   "id": "8843c045",
   "metadata": {},
   "outputs": [
    {
     "name": "stdout",
     "output_type": "stream",
     "text": [
      "True <class 'bool'>\n",
      "False <class 'bool'>\n"
     ]
    }
   ],
   "source": [
    "var1 = True\n",
    "print(var1, type(var1))\n",
    "\n",
    "var2 = (2 + 2 == 5)\n",
    "print(var2, type(var2))"
   ]
  },
  {
   "cell_type": "markdown",
   "id": "c921376c",
   "metadata": {},
   "source": [
    "\n",
    "### Variable types and theoretical categorizations\n",
    "- Discrete quantitative: integers (e.g., completed years of schooling)  \n",
    "- Continuous quantitative: floats (e.g., weight in lbs)  \n",
    "- Categorical qualitative: booleans or strings (e.g., race)  \n",
    "- Ordinal qualitative: strings or integers (ordered categories)\n"
   ]
  },
  {
   "cell_type": "markdown",
   "id": "ee826f80",
   "metadata": {},
   "source": [
    "\n",
    "## Numeric operations\n"
   ]
  },
  {
   "cell_type": "code",
   "execution_count": 6,
   "id": "1008d97d",
   "metadata": {},
   "outputs": [
    {
     "name": "stdout",
     "output_type": "stream",
     "text": [
      "Addition: 10\n",
      "Subtraction: 4\n",
      "Division: 2.3333333333333335\n",
      "Multiplication: 21\n",
      "Exponentiation: 343\n",
      "Modulo (remainder): 3 % 2 = 1\n"
     ]
    }
   ],
   "source": [
    "x, y = 7, 3\n",
    "\n",
    "print(\"Addition:\", x + y)\n",
    "print(\"Subtraction:\", x - y)\n",
    "print(\"Division:\", x / y)\n",
    "print(\"Multiplication:\", x * y)\n",
    "print(\"Exponentiation:\", x ** y)\n",
    "print(\"Modulo (remainder): 3 % 2 =\", 3 % 2)"
   ]
  },
  {
   "cell_type": "markdown",
   "id": "f9fcbdcb",
   "metadata": {},
   "source": [
    "\n",
    "## String operations\n"
   ]
  },
  {
   "cell_type": "code",
   "execution_count": 7,
   "id": "1312fc2d",
   "metadata": {},
   "outputs": [
    {
     "name": "stdout",
     "output_type": "stream",
     "text": [
      "Concatenation: Carlos Góes\n",
      "Repetition: aaaaaaaaaa\n"
     ]
    }
   ],
   "source": [
    "str1 = \"Carlos\"\n",
    "str2 = \"Góes\"\n",
    "print(\"Concatenation:\", str1 + \" \" + str2)\n",
    "\n",
    "str3 = \"a\"\n",
    "print(\"Repetition:\", str3 * 10)"
   ]
  },
  {
   "cell_type": "markdown",
   "id": "55f1e7e9",
   "metadata": {},
   "source": [
    "## Logical operations\n",
    "Use `==` and `!=` (not `is`) for value comparisons."
   ]
  },
  {
   "cell_type": "code",
   "execution_count": 8,
   "id": "ecb14522",
   "metadata": {},
   "outputs": [
    {
     "name": "stdout",
     "output_type": "stream",
     "text": [
      "2 + 2 == 4: True\n",
      "s == 'a': True\n",
      "2 + 2 != 5: True\n",
      "s != 'b': True\n",
      "10 > 100: False\n",
      "10 < 100: True\n"
     ]
    }
   ],
   "source": [
    "# Equality\n",
    "print(\"2 + 2 == 4:\", 2 + 2 == 4)\n",
    "s = \"a\"\n",
    "print(\"s == 'a':\", s == \"a\")\n",
    "\n",
    "# Inequality\n",
    "print(\"2 + 2 != 5:\", 2 + 2 != 5)\n",
    "print(\"s != 'b':\", s != \"b\")\n",
    "\n",
    "# Greater / Less than\n",
    "print(\"10 > 100:\", 10 > 100)\n",
    "print(\"10 < 100:\", 10 < 100)"
   ]
  },
  {
   "cell_type": "markdown",
   "id": "8c29b01e",
   "metadata": {},
   "source": [
    "\n",
    "### Logical arithmetic\n",
    "`True` behaves like `1` and `False` behaves like `0` in arithmetic.\n"
   ]
  },
  {
   "cell_type": "code",
   "execution_count": 9,
   "id": "7d75be2e",
   "metadata": {},
   "outputs": [
    {
     "name": "stdout",
     "output_type": "stream",
     "text": [
      "a, b, c: True True False\n",
      "Sum (how many True?): 2\n",
      "Product (are all True?): 0\n"
     ]
    }
   ],
   "source": [
    "a = (1 + 1 == 2)\n",
    "b = (2 * 2 == 4)\n",
    "c = (2 * 2 == 5)\n",
    "\n",
    "print(\"a, b, c:\", a, b, c)\n",
    "d_sum = a + b + c   # counts how many are True\n",
    "d_prod = a * b * c  # 1 only if all are True\n",
    "print(\"Sum (how many True?):\", d_sum)\n",
    "print(\"Product (are all True?):\", d_prod)"
   ]
  },
  {
   "cell_type": "markdown",
   "id": "d2e57237",
   "metadata": {},
   "source": [
    "## Lists\n",
    "Lists are ordered collections enclosed in square brackets `[]`."
   ]
  },
  {
   "cell_type": "code",
   "execution_count": 10,
   "id": "108f38b9",
   "metadata": {},
   "outputs": [
    {
     "name": "stdout",
     "output_type": "stream",
     "text": [
      "list1: [2, 20.5, 'Hi!', True]\n",
      "Index 0: 2\n",
      "Index 3: True\n"
     ]
    }
   ],
   "source": [
    "list1 = [2, 20.5, \"Hi!\", 10 < 100]\n",
    "print(\"list1:\", list1)\n",
    "print(\"Index 0:\", list1[0])   # 2\n",
    "print(\"Index 3:\", list1[3])   # True"
   ]
  },
  {
   "cell_type": "code",
   "execution_count": 11,
   "id": "86b4189d",
   "metadata": {},
   "outputs": [
    {
     "name": "stdout",
     "output_type": "stream",
     "text": [
      "After change: [20, 20.5, 'Hi!', True]\n",
      "After append: [20, 20.5, 'Hi!', True, 79.2]\n",
      "list2: [20, 20.5, 'Hi!', True, 79.2, 20, 20.5, 'Hi!', True, 79.2]\n",
      "list5: [1, 2, 5, 6]\n"
     ]
    }
   ],
   "source": [
    "# Mutating lists\n",
    "list1[0] = 20\n",
    "print(\"After change:\", list1)\n",
    "\n",
    "# Append\n",
    "list1.append(79.2)\n",
    "print(\"After append:\", list1)\n",
    "\n",
    "# Multiplication (repeat)\n",
    "list2 = list1 * 2\n",
    "print(\"list2:\", list2)\n",
    "\n",
    "# Concatenation\n",
    "list3 = [1, 2]\n",
    "list4 = [5, 6]\n",
    "list5 = list3 + list4\n",
    "print(\"list5:\", list5)"
   ]
  },
  {
   "cell_type": "markdown",
   "id": "a29ac0fa",
   "metadata": {},
   "source": [
    "\n",
    "## Dictionaries\n",
    "Dictionaries map keys to values using curly braces `{}`.\n"
   ]
  },
  {
   "cell_type": "code",
   "execution_count": 12,
   "id": "d5aa05e1",
   "metadata": {},
   "outputs": [
    {
     "name": "stdout",
     "output_type": "stream",
     "text": [
      "{'name': 'Milton Friedman', 'dob': '07/31/1912'}\n",
      "Name via key: Milton Friedman\n",
      "After update: {'name': 'Milton Friedman', 'dob': '07/31/1912', 'nationality': 'USA'}\n"
     ]
    }
   ],
   "source": [
    "\n",
    "person1 = {\n",
    "    'name': 'Milton Friedman',\n",
    "    'dob': '07/31/1912'\n",
    "}\n",
    "print(person1)\n",
    "print(\"Name via key:\", person1['name'])\n",
    "\n",
    "# Add/update a key\n",
    "person1.update({'nationality': 'USA'})\n",
    "print(\"After update:\", person1)"
   ]
  },
  {
   "cell_type": "markdown",
   "id": "25868f6b",
   "metadata": {},
   "source": [
    "\n",
    "# Introduction to `pandas`\n",
    "Install `pandas` once via `pip install pandas` (already available here). Then import:\n"
   ]
  },
  {
   "cell_type": "code",
   "execution_count": 13,
   "id": "cef1b771",
   "metadata": {},
   "outputs": [],
   "source": [
    "import numpy as np\n",
    "import pandas as pd"
   ]
  },
  {
   "cell_type": "markdown",
   "id": "a08f2f26",
   "metadata": {},
   "source": [
    "\n",
    "## Series\n",
    "Build a `Series` from other objects and access by label.\n"
   ]
  },
  {
   "cell_type": "code",
   "execution_count": 14,
   "id": "c759b02c",
   "metadata": {},
   "outputs": [
    {
     "name": "stdout",
     "output_type": "stream",
     "text": [
      "a     1.00\n",
      "b     3.25\n",
      "c     5.50\n",
      "d     7.75\n",
      "e    10.00\n",
      "Name: Series1, dtype: float64\n",
      "Access 'a': 1.0\n",
      "Access 'd': 7.75\n"
     ]
    }
   ],
   "source": [
    "x = np.linspace(1, 10, 5)\n",
    "label = [\"a\", \"b\", \"c\", \"d\", \"e\"]\n",
    "series1 = pd.Series(x, name=\"Series1\", index=label)\n",
    "print(series1)\n",
    "print(\"Access 'a':\", series1[\"a\"])\n",
    "print(\"Access 'd':\", series1[\"d\"])"
   ]
  },
  {
   "cell_type": "markdown",
   "id": "fa7972e0",
   "metadata": {},
   "source": [
    "\n",
    "### Series from a dictionary\n",
    "When built from a dictionary, indices come from keys.\n"
   ]
  },
  {
   "cell_type": "code",
   "execution_count": 15,
   "id": "c796f1d3",
   "metadata": {},
   "outputs": [
    {
     "name": "stdout",
     "output_type": "stream",
     "text": [
      "Carlos Goes          06/99209\n",
      "Nicolas Powidayko    10/22290\n",
      "Alexander Rabbat     08/21346\n",
      "Dani Alaino          07/20345\n",
      "Lya Nikate           09/23567\n",
      "Niz Borroz           11/22035\n",
      "Tom Rundal           98/20145\n",
      "Name: GWUID, dtype: object\n"
     ]
    }
   ],
   "source": [
    "gwuid  = {\n",
    "    'Carlos Goes': '06/99209',\n",
    "    \"Nicolas Powidayko\": '10/22290',\n",
    "    \"Alexander Rabbat\": '08/21346',\n",
    "    \"Dani Alaino\": '07/20345',\n",
    "    \"Lya Nikate\": '09/23567',\n",
    "    \"Niz Borroz\": '11/22035',\n",
    "    \"Tom Rundal\": \"98/20145\"\n",
    "}\n",
    "\n",
    "series2 = pd.Series(gwuid, name=\"GWUID\")\n",
    "print(series2)"
   ]
  },
  {
   "cell_type": "markdown",
   "id": "85bbaec3",
   "metadata": {},
   "source": [
    "\n",
    "## DataFrames\n",
    "DataFrames are collections of Series (aligned by index). Below we create two Series and assemble a DataFrame.\n"
   ]
  },
  {
   "cell_type": "code",
   "execution_count": 16,
   "id": "a8c59485-5dfa-475a-848c-82f8d48b4a43",
   "metadata": {},
   "outputs": [
    {
     "name": "stdout",
     "output_type": "stream",
     "text": [
      "           a     b     c      d     e\n",
      "Series1  1.0  3.25   5.5   7.75  10.0\n",
      "Series2  1.0  5.75  10.5  15.25  20.0\n"
     ]
    }
   ],
   "source": [
    "x = np.linspace(1, 10, 5)\n",
    "y = np.linspace(1, 20, 5)\n",
    "label = [\"a\",\"b\",\"c\",\"d\",\"e\"]\n",
    "series1 = pd.Series(x, name=\"Series1\", index=label)\n",
    "series2 = pd.Series(y, name=\"Series2\", index=label)\n",
    "df = pd.DataFrame(data=[series1, series2])\n",
    "\n",
    "print(df) # print table"
   ]
  },
  {
   "cell_type": "code",
   "execution_count": 17,
   "id": "7254d5f3-adbb-479a-9deb-f4cdbc56baba",
   "metadata": {},
   "outputs": [
    {
     "name": "stdout",
     "output_type": "stream",
     "text": [
      "Columns (labels): Index(['a', 'b', 'c', 'd', 'e'], dtype='object')\n",
      "\n",
      "Column 'a':\n",
      "Series1    1.0\n",
      "Series2    1.0\n",
      "Name: a, dtype: float64\n",
      "\n",
      "Row 'Series1':\n",
      "a     1.00\n",
      "b     3.25\n",
      "c     5.50\n",
      "d     7.75\n",
      "e    10.00\n",
      "Name: Series1, dtype: float64\n",
      "\n",
      "Transposed df:\n",
      "   Series1  Series2\n",
      "a     1.00     1.00\n",
      "b     3.25     5.75\n",
      "c     5.50    10.50\n",
      "d     7.75    15.25\n",
      "e    10.00    20.00\n"
     ]
    }
   ],
   "source": [
    "print(\"Columns (labels):\", df.columns)\n",
    "print(\"\\nColumn 'a':\")\n",
    "print(df[\"a\"])\n",
    "print(\"\\nRow 'Series1':\")\n",
    "print(df.loc[\"Series1\"])\n",
    "print(\"\\nTransposed df:\")\n",
    "print(df.T)"
   ]
  },
  {
   "cell_type": "markdown",
   "id": "79f4e190",
   "metadata": {},
   "source": [
    "\n",
    "### Access a specific element\n",
    "You can select column-first or row-first. (Both examples below grab the same value.)\n"
   ]
  },
  {
   "cell_type": "code",
   "execution_count": 18,
   "id": "c9ac02ac",
   "metadata": {},
   "outputs": [
    {
     "name": "stdout",
     "output_type": "stream",
     "text": [
      "df['a']['Series1']: 1.0\n",
      "df.loc['Series1','a']: 1.0\n"
     ]
    }
   ],
   "source": [
    "print(\"df['a']['Series1']:\", df[\"a\"][\"Series1\"])\n",
    "print(\"df.loc['Series1','a']:\", df.loc[\"Series1\",\"a\"])"
   ]
  },
  {
   "cell_type": "markdown",
   "id": "e68ee3bd",
   "metadata": {},
   "source": [
    "\n",
    "### Example: Students DataFrame with multiple attributes\n",
    "We use the earlier `gwuid` dict and add `major` and `gpa`. Then we explore selection and boolean masking.\n"
   ]
  },
  {
   "cell_type": "code",
   "execution_count": 19,
   "id": "24f4b49b",
   "metadata": {},
   "outputs": [
    {
     "data": {
      "text/html": [
       "<div>\n",
       "<style scoped>\n",
       "    .dataframe tbody tr th:only-of-type {\n",
       "        vertical-align: middle;\n",
       "    }\n",
       "\n",
       "    .dataframe tbody tr th {\n",
       "        vertical-align: top;\n",
       "    }\n",
       "\n",
       "    .dataframe thead th {\n",
       "        text-align: right;\n",
       "    }\n",
       "</style>\n",
       "<table border=\"1\" class=\"dataframe\">\n",
       "  <thead>\n",
       "    <tr style=\"text-align: right;\">\n",
       "      <th></th>\n",
       "      <th>gwuid</th>\n",
       "      <th>major</th>\n",
       "      <th>gpa</th>\n",
       "    </tr>\n",
       "  </thead>\n",
       "  <tbody>\n",
       "    <tr>\n",
       "      <th>Carlos Goes</th>\n",
       "      <td>06/99209</td>\n",
       "      <td>Economics</td>\n",
       "      <td>4.0</td>\n",
       "    </tr>\n",
       "    <tr>\n",
       "      <th>Nicolas Powidayko</th>\n",
       "      <td>10/22290</td>\n",
       "      <td>Economics</td>\n",
       "      <td>3.8</td>\n",
       "    </tr>\n",
       "    <tr>\n",
       "      <th>Alexander Rabbat</th>\n",
       "      <td>08/21346</td>\n",
       "      <td>Computer Science</td>\n",
       "      <td>3.8</td>\n",
       "    </tr>\n",
       "    <tr>\n",
       "      <th>Dani Alaino</th>\n",
       "      <td>07/20345</td>\n",
       "      <td>Computer Science</td>\n",
       "      <td>3.4</td>\n",
       "    </tr>\n",
       "    <tr>\n",
       "      <th>Lya Nikate</th>\n",
       "      <td>09/23567</td>\n",
       "      <td>Computer Science</td>\n",
       "      <td>3.3</td>\n",
       "    </tr>\n",
       "    <tr>\n",
       "      <th>Niz Borroz</th>\n",
       "      <td>11/22035</td>\n",
       "      <td>Statistics</td>\n",
       "      <td>3.0</td>\n",
       "    </tr>\n",
       "    <tr>\n",
       "      <th>Tom Rundal</th>\n",
       "      <td>98/20145</td>\n",
       "      <td>Computer Science</td>\n",
       "      <td>3.0</td>\n",
       "    </tr>\n",
       "  </tbody>\n",
       "</table>\n",
       "</div>"
      ],
      "text/plain": [
       "                      gwuid             major  gpa\n",
       "Carlos Goes        06/99209         Economics  4.0\n",
       "Nicolas Powidayko  10/22290         Economics  3.8\n",
       "Alexander Rabbat   08/21346  Computer Science  3.8\n",
       "Dani Alaino        07/20345  Computer Science  3.4\n",
       "Lya Nikate         09/23567  Computer Science  3.3\n",
       "Niz Borroz         11/22035        Statistics  3.0\n",
       "Tom Rundal         98/20145  Computer Science  3.0"
      ]
     },
     "metadata": {},
     "output_type": "display_data"
    }
   ],
   "source": [
    "gwuid_seriess = pd.Series(gwuid)\n",
    "\n",
    "major = pd.Series({\n",
    "    'Carlos Goes': 'Economics',\n",
    "    \"Nicolas Powidayko\": 'Economics',\n",
    "    \"Alexander Rabbat\": 'Computer Science',\n",
    "    \"Dani Alaino\": 'Computer Science',\n",
    "    \"Lya Nikate\": 'Computer Science',\n",
    "    \"Niz Borroz\": 'Statistics',\n",
    "    \"Tom Rundal\": \"Computer Science\"\n",
    "})\n",
    "\n",
    "gpa = pd.Series({\n",
    "    'Carlos Goes': 4.0,\n",
    "    \"Nicolas Powidayko\": 3.8,\n",
    "    \"Alexander Rabbat\": 3.8,\n",
    "    \"Dani Alaino\": 3.4,\n",
    "    \"Lya Nikate\": 3.3,\n",
    "    \"Niz Borroz\": 3.0,\n",
    "    \"Tom Rundal\": 3.0\n",
    "})\n",
    "\n",
    "df_students = pd.DataFrame(\n",
    "    [gwuid_seriess, major, gpa],\n",
    "    index=['gwuid', 'major', 'gpa']\n",
    ").T\n",
    "\n",
    "display(df_students) # display() has nicer formatting in Jupyter notebooks compared to print()"
   ]
  },
  {
   "cell_type": "code",
   "execution_count": 20,
   "id": "c621dd4b",
   "metadata": {},
   "outputs": [
    {
     "name": "stdout",
     "output_type": "stream",
     "text": [
      "Attributes of Carlos Goes:\n",
      "gwuid     06/99209\n",
      "major    Economics\n",
      "gpa            4.0\n",
      "Name: Carlos Goes, dtype: object\n",
      "\n",
      "All registration numbers (gwuid):\n",
      "Carlos Goes          06/99209\n",
      "Nicolas Powidayko    10/22290\n",
      "Alexander Rabbat     08/21346\n",
      "Dani Alaino          07/20345\n",
      "Lya Nikate           09/23567\n",
      "Niz Borroz           11/22035\n",
      "Tom Rundal           98/20145\n",
      "Name: gwuid, dtype: object\n",
      "\n",
      "Boolean mask for Computer Science majors:\n",
      "Carlos Goes          False\n",
      "Nicolas Powidayko    False\n",
      "Alexander Rabbat      True\n",
      "Dani Alaino           True\n",
      "Lya Nikate            True\n",
      "Niz Borroz           False\n",
      "Tom Rundal            True\n",
      "Name: major, dtype: bool\n",
      "\n",
      "Filtered DataFrame (Computer Science majors):\n",
      "                     gwuid             major  gpa\n",
      "Alexander Rabbat  08/21346  Computer Science  3.8\n",
      "Dani Alaino       07/20345  Computer Science  3.4\n",
      "Lya Nikate        09/23567  Computer Science  3.3\n",
      "Tom Rundal        98/20145  Computer Science  3.0\n"
     ]
    }
   ],
   "source": [
    "# Lookups\n",
    "print(\"Attributes of Carlos Goes:\")\n",
    "print(df_students.loc[\"Carlos Goes\"])\n",
    "\n",
    "print(\"\\nAll registration numbers (gwuid):\")\n",
    "print(df_students[\"gwuid\"])\n",
    "\n",
    "print(\"\\nBoolean mask for Computer Science majors:\")\n",
    "mask_cs = (df_students[\"major\"] == \"Computer Science\")\n",
    "print(mask_cs)\n",
    "\n",
    "print(\"\\nFiltered DataFrame (Computer Science majors):\")\n",
    "print(df_students[mask_cs])"
   ]
  },
  {
   "cell_type": "code",
   "execution_count": null,
   "id": "cec3063d-5ae8-4eea-9ed6-9d639a1a3392",
   "metadata": {},
   "outputs": [],
   "source": []
  }
 ],
 "metadata": {
  "kernelspec": {
   "display_name": "Python 3 (ipykernel)",
   "language": "python",
   "name": "python3"
  },
  "language_info": {
   "codemirror_mode": {
    "name": "ipython",
    "version": 3
   },
   "file_extension": ".py",
   "mimetype": "text/x-python",
   "name": "python",
   "nbconvert_exporter": "python",
   "pygments_lexer": "ipython3",
   "version": "3.12.7"
  }
 },
 "nbformat": 4,
 "nbformat_minor": 5
}
